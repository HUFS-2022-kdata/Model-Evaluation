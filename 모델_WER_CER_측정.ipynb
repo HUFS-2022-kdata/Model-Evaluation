{
  "nbformat": 4,
  "nbformat_minor": 0,
  "metadata": {
    "colab": {
      "name": "모델 WER/CER 측정.ipynb",
      "provenance": []
    },
    "kernelspec": {
      "name": "python3",
      "display_name": "Python 3"
    },
    "language_info": {
      "name": "python"
    }
  },
  "cells": [
    {
      "cell_type": "markdown",
      "source": [
        "# CER/WER 측정"
      ],
      "metadata": {
        "id": "h04lnS94yXeD"
      }
    },
    {
      "cell_type": "code",
      "execution_count": null,
      "metadata": {
        "id": "-eABixz9yQIX"
      },
      "outputs": [],
      "source": [
        "!pip install jiwer"
      ]
    },
    {
      "cell_type": "code",
      "source": [
        "import os\n",
        "\n",
        "# 정답 텍스트를 result 리스트에 담아 리턴\n",
        "def getText(path):\n",
        "  result = []\n",
        "\n",
        "  for dir in os.listdir(path):\n",
        "    tmplst = []\n",
        "    for file in os.listdir(os.path.join(path,dir)):\n",
        "      if \".txt\" in file:\n",
        "        # 파일을 순서대로 불러오지 않기 때문에 순서대로 정렬하고자 함\n",
        "        tmp = file.replace(\"chunk\",\"\")\n",
        "        tmp = tmp.replace(\".txt\",\"\")\n",
        "        tmplst.append(int(tmp))\n",
        "    # 파일명의 숫자를 기준으로 정렬\n",
        "    tmplst.sort()\n",
        "    for i in range(len(tmplst)):\n",
        "      tmplst[i] = \"chunk\"+str(tmplst[i])+\".txt\"\n",
        "      with open(os.path.join(path,dir,tmplst[i]),'r',encoding=\"cp949\") as f:\n",
        "        result.append(f.read())\n",
        "  return result"
      ],
      "metadata": {
        "id": "U9W8K-iCycN0"
      },
      "execution_count": null,
      "outputs": []
    },
    {
      "cell_type": "code",
      "source": [
        "# inference를 통해 얻은 결과 텍스트를 result 리스트에 담아 리턴\n",
        "def getText2(path):\n",
        "  result = []\n",
        "  with open(path,'r') as f:\n",
        "    while True:\n",
        "      line = f.readline()\n",
        "      if not line:\n",
        "        break\n",
        "      result.append(line.replace(\"\\n\",\"\"))\n",
        "  return result"
      ],
      "metadata": {
        "id": "p4wL85iMzHw6"
      },
      "execution_count": null,
      "outputs": []
    },
    {
      "cell_type": "markdown",
      "source": [
        "**WER(Word Error Rate)**"
      ],
      "metadata": {
        "id": "5hktsTCAzPp5"
      }
    },
    {
      "cell_type": "code",
      "source": [
        "from jiwer import wer\n",
        "# 원본 텍스트\n",
        "script_lst = getText(\"/content/drive/Shareddrives/KdataB3/Mallang/kospeech/데이터_영해\")\n",
        "# 정답 텍스트 - 모델 추론 결과\n",
        "answer_lst = getText2(\"/content/drive/Shareddrives/KdataB3/Mallang/곧지움/inference2.txt\")\n",
        "\n",
        "# 텍스트 간의 일치를 확인\n",
        "for i in range(len(answer_lst)):\n",
        "  print(i, script_lst[i])\n",
        "  print(i, answer_lst[i])\n",
        "\n",
        "WER_error = wer(script_lst, answer_lst)\n",
        "print()\n",
        "print(f'WER:  {WER_error:.3f}')"
      ],
      "metadata": {
        "id": "CUjquXYGzTFJ"
      },
      "execution_count": null,
      "outputs": []
    },
    {
      "cell_type": "markdown",
      "source": [
        "**CER(Character Error Rate)**"
      ],
      "metadata": {
        "id": "0TvvrYVMz8fp"
      }
    },
    {
      "cell_type": "code",
      "source": [
        "from jiwer import cer\n",
        "# 원본 텍스트\n",
        "script_lst = getText(\"/content/drive/Shareddrives/KdataB3/Mallang/kospeech/데이터_영해\")\n",
        "# 정답 텍스트 - 모델 추론 결과\n",
        "answer_lst = getText2(\"/content/drive/Shareddrives/KdataB3/Mallang/곧지움/inference2.txt\")\n",
        "\n",
        "# 텍스트 간의 일치를 확인\n",
        "for i in range(len(answer_lst)):\n",
        "  print(i, script_lst[i])\n",
        "  print(i, answer_lst[i])\n",
        "\n",
        "CER_error = cer(script_lst, answer_lst)\n",
        "print()\n",
        "print(f'CER:  {CER_error:.3f}')"
      ],
      "metadata": {
        "id": "10TZPAq6z_97"
      },
      "execution_count": null,
      "outputs": []
    }
  ]
}